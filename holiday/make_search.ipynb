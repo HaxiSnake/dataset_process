{
 "cells": [
  {
   "cell_type": "code",
   "execution_count": 1,
   "metadata": {},
   "outputs": [
    {
     "name": "stderr",
     "output_type": "stream",
     "text": [
      "/usr/lib/python3.5/importlib/_bootstrap.py:222: RuntimeWarning: numpy.dtype size changed, may indicate binary incompatibility. Expected 96, got 88\n",
      "  return f(*args, **kwds)\n",
      "/usr/lib/python3.5/importlib/_bootstrap.py:222: RuntimeWarning: numpy.dtype size changed, may indicate binary incompatibility. Expected 96, got 88\n",
      "  return f(*args, **kwds)\n",
      "/usr/lib/python3.5/importlib/_bootstrap.py:222: RuntimeWarning: numpy.dtype size changed, may indicate binary incompatibility. Expected 96, got 88\n",
      "  return f(*args, **kwds)\n"
     ]
    }
   ],
   "source": [
    "import numpy as np \n",
    "from scipy.io import loadmat\n",
    "import pandas as pd"
   ]
  },
  {
   "cell_type": "code",
   "execution_count": 2,
   "metadata": {},
   "outputs": [
    {
     "name": "stdout",
     "output_type": "stream",
     "text": [
      "keys: dict_keys(['__version__', 'our_feature1', '__header__', '__globals__'])\n",
      "(500, 128)\n",
      "(500, 1491)\n",
      "(500, 1491)\n",
      "[[   0    1   13 ...   49  916  200]\n",
      " [   3    5   10 ...   49  916  200]\n",
      " [   5   10    0 ...  916   49  200]\n",
      " ...\n",
      " [1484 1485  706 ...   53  200   49]\n",
      " [1486 1487 1191 ...  916   49  200]\n",
      " [1488 1356  973 ...  270  231  895]]\n"
     ]
    }
   ],
   "source": [
    "features=loadmat(\"example.mat\")\n",
    "\n",
    "#查看有返回的类型和他的键\n",
    "print(\"keys:\",features.keys())\n",
    "#分离querys和features\n",
    "features = np.asarray(features['our_feature1'])\n",
    "querys=features[features[:,-1]%100==0]\n",
    "features,features_number = features[:,:-1],features[:,-1] \n",
    "querys,querys_number = querys[:,:-1],querys[:,-1] \n",
    "print(querys.shape)\n",
    "\n",
    "#得到一范数度量\n",
    "result=np.sum(np.abs(features-querys[:,np.newaxis,:]),axis=2)\n",
    "# result=np.power(np.sum(np.power(features-querys[:,np.newaxis,:],2),axis=2),0.5)\n",
    "print(result.shape)\n",
    "rank_ID = np.argsort(result,axis=1)\n",
    "print(rank_ID.shape)\n",
    "print(rank_ID)\n",
    "\n",
    "with open(\"result.dat\",'w') as output:\n",
    "    for i,query_num in enumerate(querys_number):\n",
    "        pic_suffix = \".jpg\"\n",
    "        query_name = \"%6d%s\"%(query_num,pic_suffix)\n",
    "        line=[query_name]\n",
    "#         for rank,img_name in enumerate(features_number[rank_ID[i,1:21]]):\n",
    "#             line.append(\"%d %6d%s\"%(rank,img_name,pic_suffix))\n",
    "        for rank,img_name in enumerate(features_number[rank_ID[i,1:]]):\n",
    "            if(img_name//100 == query_num //100):\n",
    "                line.append(\"%d %6d%s\"%(rank,img_name,pic_suffix))       \n",
    "        output.write(' '.join(line) + '\\n')"
   ]
  }
 ],
 "metadata": {
  "kernelspec": {
   "display_name": "Python 3",
   "language": "python",
   "name": "python3"
  },
  "language_info": {
   "codemirror_mode": {
    "name": "ipython",
    "version": 3
   },
   "file_extension": ".py",
   "mimetype": "text/x-python",
   "name": "python",
   "nbconvert_exporter": "python",
   "pygments_lexer": "ipython3",
   "version": "3.5.1+"
  }
 },
 "nbformat": 4,
 "nbformat_minor": 2
}
