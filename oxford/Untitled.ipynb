{
 "cells": [
  {
   "cell_type": "code",
   "execution_count": 7,
   "metadata": {},
   "outputs": [
    {
     "name": "stdout",
     "output_type": "stream",
     "text": [
      "{'magdalen_5': 0.03145784270680349, 'balliol_2': 0.08687538284939829, 'ashmolean_2': 0.019972069370502457, 'keble_4': 0.03786419301094096, 'bodleian_3': 0.023126226280771354, 'all_souls_2': 0.09382587337642731, 'magdalen_1': 0.03846737992577572, 'radcliffe_camera_5': 0.09322252411022912, 'balliol_4': 0.09347660791741712, 'radcliffe_camera_1': 0.1729164408702777, 'hertford_5': 0.033200885525744794, 'balliol_3': 0.09946900255248983, 'pitt_rivers_2': 0.16979755835825056, 'bodleian_2': 0.055539947767877976, 'radcliffe_camera_2': 0.18492813983670697, 'balliol_5': 0.0882702335858389, 'radcliffe_camera_3': 0.1018441657055697, 'magdalen_2': 0.016282746863862864, 'hertford_2': 0.05479153288104394, 'christ_church_1': 0.041459442080396786, 'pitt_rivers_4': 0.17195321062677532, 'ashmolean_4': 0.007695436534425232, 'cornmarket_1': 0.0026456734037806256, 'pitt_rivers_1': 0.16903165520846428, 'christ_church_2': 0.02628239493140978, 'ashmolean_5': 0.006393431988048779, 'ashmolean_3': 0.05227912184208781, 'all_souls_3': 0.05536825394308954, 'keble_1': 0.14628243385409104, 'all_souls_4': 0.029162931425600336, 'cornmarket_4': 0.11381139653486624, 'keble_3': 0.14590507415319603, 'keble_2': 0.14475164518828207, 'magdalen_3': 0.03316145803410852, 'hertford_1': 0.03718687053486685, 'magdalen_4': 0.018721318365194917, 'radcliffe_camera_4': 0.19767516477262204, 'hertford_3': 0.04470688530526097, 'christ_church_4': 0.033812598524425155, 'pitt_rivers_5': 0.16957010177953974, 'cornmarket_3': 0.004048196026902864, 'bodleian_1': 0.05111846789881346, 'cornmarket_5': 0.0021863140370013408, 'balliol_1': 0.0944782537633234, 'bodleian_5': 0.008611388455993409, 'keble_5': 0.14455270004903556, 'all_souls_1': 0.04185720592237557, 'pitt_rivers_3': 0.1700627984263415, 'christ_church_5': 0.022466800764361028, 'bodleian_4': 0.007436472335165349, 'cornmarket_2': 0.0019563487199556677, 'hertford_4': 0.06149420437161867, 'all_souls_5': 0.06220370837830625, 'ashmolean_1': 0.011027302997705614, 'christ_church_3': 0.027763330389754162}\n",
      "0.07008088627387482\n"
     ]
    }
   ],
   "source": [
    "from compute import load_list,compute_ap\n",
    "def load_result(fname):\n",
    "    result={}\n",
    "    for e in open(fname,'r').readlines():\n",
    "        line=e.strip().split(' ')\n",
    "        result[line[0]]=line[1:]\n",
    "    return result\n",
    "result=load_result('result.txt')\n",
    "gt_path='/share/dong/Data/OxfordBuilding/gtfiles/'\n",
    "ap={}\n",
    "for query,ranked_list in result.items():\n",
    "    querypath=gt_path+query\n",
    "    pos_set = list(set(load_list(\"%s_good.txt\" % querypath) + load_list(\"%s_ok.txt\" % querypath)))\n",
    "    junk_set = load_list(\"%s_junk.txt\" % querypath)\n",
    "    ap[query]=compute_ap(pos_set, junk_set, ranked_list)\n",
    "print(ap)\n",
    "aplist = ap.values()\n",
    "print(sum(aplist)/len(aplist))"
   ]
  }
 ],
 "metadata": {
  "kernelspec": {
   "display_name": "Python 3",
   "language": "python",
   "name": "python3"
  },
  "language_info": {
   "codemirror_mode": {
    "name": "ipython",
    "version": 3
   },
   "file_extension": ".py",
   "mimetype": "text/x-python",
   "name": "python",
   "nbconvert_exporter": "python",
   "pygments_lexer": "ipython3",
   "version": "3.5.1+"
  }
 },
 "nbformat": 4,
 "nbformat_minor": 2
}
