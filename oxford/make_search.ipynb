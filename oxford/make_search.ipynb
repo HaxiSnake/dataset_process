{
 "cells": [
  {
   "cell_type": "code",
   "execution_count": 5,
   "metadata": {},
   "outputs": [
    {
     "name": "stderr",
     "output_type": "stream",
     "text": [
      "/usr/lib/python3.5/importlib/_bootstrap.py:222: RuntimeWarning: numpy.dtype size changed, may indicate binary incompatibility. Expected 96, got 88\n",
      "  return f(*args, **kwds)\n",
      "/usr/lib/python3.5/importlib/_bootstrap.py:222: RuntimeWarning: numpy.dtype size changed, may indicate binary incompatibility. Expected 96, got 88\n",
      "  return f(*args, **kwds)\n",
      "/usr/lib/python3.5/importlib/_bootstrap.py:222: RuntimeWarning: numpy.dtype size changed, may indicate binary incompatibility. Expected 96, got 88\n",
      "  return f(*args, **kwds)\n"
     ]
    }
   ],
   "source": [
    "import numpy as np \n",
    "from scipy.io import loadmat\n",
    "import pandas as pd"
   ]
  },
  {
   "cell_type": "code",
   "execution_count": 6,
   "metadata": {},
   "outputs": [
    {
     "name": "stdout",
     "output_type": "stream",
     "text": [
      "['hertford_2', 'cornmarket_5', 'christ_church_5', 'balliol_4', 'ashmolean_3', 'bodleian_1', 'ashmolean_4', 'all_souls_2', 'hertford_5', 'magdalen_5', 'all_souls_1', 'keble_1', 'ashmolean_5', 'bodleian_5', 'magdalen_4', 'hertford_3', 'pitt_rivers_2', 'radcliffe_camera_1', 'pitt_rivers_4', 'balliol_5', 'christ_church_2', 'radcliffe_camera_5', 'all_souls_5', 'all_souls_4', 'balliol_3', 'keble_4', 'cornmarket_1', 'cornmarket_3', 'pitt_rivers_1', 'pitt_rivers_3', 'keble_2', 'keble_5', 'ashmolean_2', 'ashmolean_1', 'magdalen_2', 'bodleian_4', 'magdalen_1', 'bodleian_2', 'magdalen_3', 'balliol_2', 'cornmarket_4', 'radcliffe_camera_3', 'radcliffe_camera_4', 'bodleian_3', 'christ_church_3', 'keble_3', 'balliol_1', 'christ_church_4', 'radcliffe_camera_2', 'cornmarket_2', 'hertford_1', 'all_souls_3', 'christ_church_1', 'pitt_rivers_5', 'hertford_4']\n"
     ]
    }
   ],
   "source": [
    "picnames=[e.strip() for e in open('namelist.txt', 'r').readlines()]\n",
    "query_names=picnames[:55]\n",
    "print(query_names)"
   ]
  },
  {
   "cell_type": "code",
   "execution_count": 7,
   "metadata": {},
   "outputs": [
    {
     "name": "stdout",
     "output_type": "stream",
     "text": [
      "keys: dict_keys(['__header__', 'our_feature', '__globals__', '__version__'])\n",
      "[ 0.  1.  2.  3.  4.  5.  6.  7.  8.  9. 10. 11. 12. 13. 14. 15. 16. 17.\n",
      " 18. 19. 20. 21. 22. 23. 24. 25. 26. 27. 28. 29. 30. 31. 32. 33. 34. 35.\n",
      " 36. 37. 38. 39. 40. 41. 42. 43. 44. 45. 46. 47. 48. 49. 50. 51. 52. 53.\n",
      " 54.]\n",
      "(55, 5063)\n",
      "[[1421 4036 5008 ... 4175 3468 1510]\n",
      " [1572  250   75 ... 3660  265  569]\n",
      " [ 750 2357 1008 ... 1414  265  569]\n",
      " ...\n",
      " [4990 2017 5070 ... 1414 3612  569]\n",
      " [1245  464 3286 ... 1510  265  569]\n",
      " [4677 2010 4792 ... 4175 4952 1510]]\n"
     ]
    }
   ],
   "source": [
    "features=loadmat(\"Oxford-COT2.mat\")\n",
    "\n",
    "#查看有返回的类型和他的键\n",
    "print(\"keys:\",features.keys())\n",
    "#分离querys和features\n",
    "features = np.asarray(features['our_feature'])\n",
    "querys=features[:55,:]\n",
    "features,features_number = features[55:,:-1],features[55:,-1] \n",
    "querys,querys_number = querys[:,:-1],querys[:,-1] \n",
    "print(querys_number)\n",
    "#得到一范数度量\n",
    "result=np.sum(np.abs(features-querys[:,np.newaxis,:]),axis=2)\n",
    "# result=np.power(np.sum(np.power(features-querys[:,np.newaxis,:],2),axis=2),0.5)\n",
    "rank_ID = np.argsort(result,axis=1) + 55\n",
    "print(rank_ID.shape)\n",
    "print(rank_ID)"
   ]
  },
  {
   "cell_type": "code",
   "execution_count": 9,
   "metadata": {},
   "outputs": [],
   "source": [
    "with open(\"result.txt\",'w') as output:\n",
    "    for i,query_num in enumerate(querys_number):\n",
    "        query_name =  query_names[int(query_num)]\n",
    "        line = [query_name]\n",
    "        picnames=np.asarray(picnames)\n",
    "        for img_name in picnames[rank_ID[i,:]]:\n",
    "            line.append(img_name)\n",
    "        output.write(' '.join(line) + '\\n')"
   ]
  },
  {
   "cell_type": "code",
   "execution_count": 10,
   "metadata": {},
   "outputs": [
    {
     "name": "stdout",
     "output_type": "stream",
     "text": [
      "{'bodleian_3': 0.023126226280771354, 'radcliffe_camera_1': 0.1729164408702777, 'christ_church_2': 0.02628239493140978, 'ashmolean_3': 0.05227912184208781, 'all_souls_4': 0.029162931425600336, 'keble_5': 0.14455270004903556, 'ashmolean_1': 0.011027302997705614, 'all_souls_3': 0.05536825394308954, 'bodleian_5': 0.008611388455993409, 'keble_3': 0.14590507415319603, 'radcliffe_camera_2': 0.18492813983670697, 'all_souls_1': 0.04185720592237557, 'pitt_rivers_1': 0.16903165520846428, 'pitt_rivers_3': 0.1700627984263415, 'pitt_rivers_5': 0.16957010177953974, 'ashmolean_5': 0.006393431988048779, 'hertford_4': 0.06149420437161867, 'keble_1': 0.14628243385409104, 'christ_church_5': 0.022466800764361028, 'keble_4': 0.03786419301094096, 'balliol_3': 0.09946900255248983, 'balliol_2': 0.08687538284939829, 'cornmarket_1': 0.0026456734037806256, 'hertford_1': 0.03718687053486685, 'keble_2': 0.14475164518828207, 'bodleian_4': 0.007436472335165349, 'balliol_5': 0.0882702335858389, 'balliol_1': 0.0944782537633234, 'hertford_2': 0.05479153288104394, 'magdalen_2': 0.016282746863862864, 'christ_church_1': 0.041459442080396786, 'radcliffe_camera_5': 0.09322252411022912, 'radcliffe_camera_4': 0.19767516477262204, 'hertford_5': 0.033200885525744794, 'christ_church_3': 0.027763330389754162, 'all_souls_5': 0.06220370837830625, 'pitt_rivers_2': 0.16979755835825056, 'bodleian_2': 0.055539947767877976, 'balliol_4': 0.09347660791741712, 'ashmolean_2': 0.019972069370502457, 'radcliffe_camera_3': 0.1018441657055697, 'magdalen_5': 0.03145784270680349, 'cornmarket_3': 0.004048196026902864, 'all_souls_2': 0.09382587337642731, 'pitt_rivers_4': 0.17195321062677532, 'magdalen_3': 0.03316145803410852, 'cornmarket_4': 0.11381139653486624, 'cornmarket_5': 0.0021863140370013408, 'bodleian_1': 0.05111846789881346, 'cornmarket_2': 0.0019563487199556677, 'hertford_3': 0.04470688530526097, 'magdalen_4': 0.018721318365194917, 'christ_church_4': 0.033812598524425155, 'ashmolean_4': 0.007695436534425232, 'magdalen_1': 0.03846737992577572}\n",
      "0.07008088627387479\n",
      "55\n"
     ]
    }
   ],
   "source": [
    "from compute import load_list,compute_ap\n",
    "def load_result(fname):\n",
    "    result={}\n",
    "    for e in open(fname,'r').readlines():\n",
    "        line=e.strip().split(' ')\n",
    "        result[line[0]]=line[1:]\n",
    "    return result\n",
    "result=load_result('result.txt')\n",
    "gt_path='/share/dong/Data/OxfordBuilding/gtfiles/'\n",
    "ap={}\n",
    "for query,ranked_list in result.items():\n",
    "    querypath=gt_path+query\n",
    "    pos_set = list(set(load_list(\"%s_good.txt\" % querypath) + load_list(\"%s_ok.txt\" % querypath)))\n",
    "    junk_set = load_list(\"%s_junk.txt\" % querypath)\n",
    "    ap[query]=compute_ap(pos_set, junk_set, ranked_list)\n",
    "aplist = ap.values()\n",
    "print(ap)\n",
    "print(sum(aplist)/len(aplist))\n",
    "print(len(aplist))"
   ]
  }
 ],
 "metadata": {
  "kernelspec": {
   "display_name": "Python 3",
   "language": "python",
   "name": "python3"
  },
  "language_info": {
   "codemirror_mode": {
    "name": "ipython",
    "version": 3
   },
   "file_extension": ".py",
   "mimetype": "text/x-python",
   "name": "python",
   "nbconvert_exporter": "python",
   "pygments_lexer": "ipython3",
   "version": "3.5.1+"
  }
 },
 "nbformat": 4,
 "nbformat_minor": 2
}
