{
 "cells": [
  {
   "cell_type": "code",
   "execution_count": 2,
   "metadata": {},
   "outputs": [
    {
     "name": "stderr",
     "output_type": "stream",
     "text": [
      "/usr/lib/python3.5/importlib/_bootstrap.py:222: RuntimeWarning: numpy.dtype size changed, may indicate binary incompatibility. Expected 96, got 88\n",
      "  return f(*args, **kwds)\n",
      "/usr/lib/python3.5/importlib/_bootstrap.py:222: RuntimeWarning: numpy.dtype size changed, may indicate binary incompatibility. Expected 96, got 88\n",
      "  return f(*args, **kwds)\n",
      "/usr/lib/python3.5/importlib/_bootstrap.py:222: RuntimeWarning: numpy.dtype size changed, may indicate binary incompatibility. Expected 96, got 88\n",
      "  return f(*args, **kwds)\n",
      "/usr/lib/python3.5/importlib/_bootstrap.py:222: RuntimeWarning: numpy.dtype size changed, may indicate binary incompatibility. Expected 96, got 88\n",
      "  return f(*args, **kwds)\n"
     ]
    }
   ],
   "source": []
  },
  {
   "cell_type": "code",
   "execution_count": 19,
   "metadata": {},
   "outputs": [],
   "source": [
    "import argparse as ap\n",
    "import cv2\n",
    "import numpy as np\n",
    "import os\n",
    "from sklearn.externals import joblib\n",
    "from scipy.cluster.vq import *\n",
    "from sklearn import preprocessing\n",
    "import numpy as np\n",
    "from pylab import *\n",
    "from PIL import Image\n",
    "\n",
    "class Struct():\n",
    "    def __init__(self):\n",
    "        pass\n",
    "args = Struct()\n",
    "args.query_path='/share/dong/Data/OxfordBuilding/gtfiles/'\n",
    "args.image_path='/share/dong/Data/OxfordBuilding/images/' \n",
    "args.output_path='/share/dong/Data/OxfordBuilding/rename_imgs/' \n",
    "class ImgProcessor():\n",
    "    def __init__(self, query_path, image_path, output_path):\n",
    "        self.query_path = query_path\n",
    "        self.image_path = image_path\n",
    "        self.output_path = output_path\n",
    "        self.rois= self._read_rois()\n",
    "        self.imgid = 0\n",
    "    def _read_rois(self):\n",
    "        roi_dict = {}\n",
    "        filelist = os.listdir(self.query_path)\n",
    "        for item in filelist:\n",
    "            if item.endswith('_query.txt'):\n",
    "                path = self.query_path + item\n",
    "                with open(path,'r') as query_file:\n",
    "                    line = query_file.read().strip().split(' ')\n",
    "                    img_name = line[0]\n",
    "                    ROI = [int(float(t)) for t in line[1:]]\n",
    "                    roi_dict[item[:-10]]=(img_name[5:],ROI)\n",
    "        return roi_dict\n",
    "    def rename_imgs(self):\n",
    "        self._save_querys()\n",
    "        self._save_imgs()\n",
    "    def _save_querys(self):\n",
    "        namelist_path = self.output_path + \"namelist.txt\"\n",
    "        with open(namelist_path,\"w\") as output:\n",
    "            for i,values in enumerate(self.rois.items()):\n",
    "                self.imgid = i\n",
    "                query,roi_info = values\n",
    "                name,roi = roi_info\n",
    "                path = self.image_path + name + '.jpg'\n",
    "                img = cv2.imread(path)\n",
    "                pt1,pt2 = tuple(roi[:2]),tuple(roi[2:])\n",
    "                img = img[pt1[1]:pt2[1],pt1[0]:pt2[0]]\n",
    "                save_path = self.output_path + str(self.imgid) + '.jpg' \n",
    "                cv2.imwrite(save_path,img,[int(cv2.IMWRITE_JPEG_QUALITY), 100])\n",
    "                output.write(query+'\\n')\n",
    "    def _save_imgs(self):\n",
    "        filelist = os.listdir(self.image_path)\n",
    "        namelist_path = self.output_path + \"namelist.txt\"\n",
    "        with open(namelist_path,\"w+\") as output:\n",
    "            for item in filelist:\n",
    "                if item.endswith(\".jpg\"):\n",
    "                    path = self.image_path + item\n",
    "                    self.imgid += 1\n",
    "                    img=cv2.imread(path)\n",
    "                    save_path = self.output_path + str(self.imgid) + '.jpg'\n",
    "                    cv2.imwrite(save_path,img,[int(cv2.IMWRITE_JPEG_QUALITY), 100])\n",
    "                    output.write(item[:-4]+'\\n')\n",
    "processor = ImgProcessor(args.query_path, args.image_path, args.output_path)\n",
    "processor.rename_imgs()"
   ]
  }
 ],
 "metadata": {
  "kernelspec": {
   "display_name": "Python 3",
   "language": "python",
   "name": "python3"
  },
  "language_info": {
   "codemirror_mode": {
    "name": "ipython",
    "version": 3
   },
   "file_extension": ".py",
   "mimetype": "text/x-python",
   "name": "python",
   "nbconvert_exporter": "python",
   "pygments_lexer": "ipython3",
   "version": "3.5.1+"
  }
 },
 "nbformat": 4,
 "nbformat_minor": 2
}
