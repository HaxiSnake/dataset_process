{
 "cells": [
  {
   "cell_type": "code",
   "execution_count": 1,
   "metadata": {},
   "outputs": [
    {
     "name": "stderr",
     "output_type": "stream",
     "text": [
      "/usr/lib/python3.5/importlib/_bootstrap.py:222: RuntimeWarning: numpy.dtype size changed, may indicate binary incompatibility. Expected 96, got 88\n",
      "  return f(*args, **kwds)\n",
      "/usr/lib/python3.5/importlib/_bootstrap.py:222: RuntimeWarning: numpy.dtype size changed, may indicate binary incompatibility. Expected 96, got 88\n",
      "  return f(*args, **kwds)\n",
      "/usr/lib/python3.5/importlib/_bootstrap.py:222: RuntimeWarning: numpy.dtype size changed, may indicate binary incompatibility. Expected 96, got 88\n",
      "  return f(*args, **kwds)\n"
     ]
    }
   ],
   "source": [
    "import numpy as np \n",
    "from scipy.io import loadmat\n",
    "import pandas as pd"
   ]
  },
  {
   "cell_type": "code",
   "execution_count": 2,
   "metadata": {},
   "outputs": [
    {
     "name": "stdout",
     "output_type": "stream",
     "text": [
      "['hertford_2', 'cornmarket_5', 'christ_church_5', 'balliol_4', 'ashmolean_3', 'bodleian_1', 'ashmolean_4', 'all_souls_2', 'hertford_5', 'magdalen_5', 'all_souls_1', 'keble_1', 'ashmolean_5', 'bodleian_5', 'magdalen_4', 'hertford_3', 'pitt_rivers_2', 'radcliffe_camera_1', 'pitt_rivers_4', 'balliol_5', 'christ_church_2', 'radcliffe_camera_5', 'all_souls_5', 'all_souls_4', 'balliol_3', 'keble_4', 'cornmarket_1', 'cornmarket_3', 'pitt_rivers_1', 'pitt_rivers_3', 'keble_2', 'keble_5', 'ashmolean_2', 'ashmolean_1', 'magdalen_2', 'bodleian_4', 'magdalen_1', 'bodleian_2', 'magdalen_3', 'balliol_2', 'cornmarket_4', 'radcliffe_camera_3', 'radcliffe_camera_4', 'bodleian_3', 'christ_church_3', 'keble_3', 'balliol_1', 'christ_church_4', 'radcliffe_camera_2', 'cornmarket_2', 'hertford_1', 'all_souls_3', 'christ_church_1', 'pitt_rivers_5', 'hertford_4']\n"
     ]
    }
   ],
   "source": [
    "picnames=[e.strip() for e in open('namelist.txt', 'r').readlines()]\n",
    "query_names=picnames[:55]\n",
    "print(query_names)"
   ]
  },
  {
   "cell_type": "code",
   "execution_count": 3,
   "metadata": {},
   "outputs": [
    {
     "name": "stdout",
     "output_type": "stream",
     "text": [
      "keys: dict_keys(['__globals__', '__header__', '__version__', 'our_feature'])\n",
      "(55, 199)\n",
      "(55, 5063)\n",
      "[[1421 4036 2060 ... 4952 1510 3468]\n",
      " [2433  250 2709 ...  265  569 3468]\n",
      " [ 750 2357 1775 ... 1414  265  569]\n",
      " ...\n",
      " [5070 3895 1002 ... 3519 3612 3468]\n",
      " [ 464 1693 3286 ...  569 3468 1510]\n",
      " [4677 3452 4792 ... 3468 4952 1510]]\n"
     ]
    }
   ],
   "source": [
    "features=loadmat(\"Oxford-COT2.mat\")\n",
    "\n",
    "#查看有返回的类型和他的键\n",
    "print(\"keys:\",features.keys())\n",
    "#分离querys和features\n",
    "features = np.asarray(features['our_feature'])\n",
    "querys=features[:55,:]\n",
    "features,features_number = features[55:,:-1],features[55:,-1] \n",
    "querys,querys_number = querys[:,:-1],querys[:,-1] \n",
    "print(querys.shape)\n",
    "#得到一范数度量\n",
    "result=np.sum(np.abs(features-querys[:,np.newaxis,:]),axis=2)\n",
    "# result=np.power(np.sum(np.power(features-querys[:,np.newaxis,:],2),axis=2),0.5)\n",
    "rank_ID = np.argsort(result,axis=1) + 55\n",
    "print(rank_ID.shape)\n",
    "print(rank_ID)"
   ]
  },
  {
   "cell_type": "code",
   "execution_count": 4,
   "metadata": {},
   "outputs": [],
   "source": [
    "with open(\"result.txt\",'w') as output:\n",
    "    for i,query_num in enumerate(querys_number):\n",
    "        query_name =  query_names[int(query_num)]\n",
    "        line = [query_name]\n",
    "        picnames=np.asarray(picnames)\n",
    "        for img_name in picnames[rank_ID[i,:]]:\n",
    "            line.append(img_name)\n",
    "        output.write(' '.join(line) + '\\n')"
   ]
  },
  {
   "cell_type": "code",
   "execution_count": 5,
   "metadata": {},
   "outputs": [
    {
     "name": "stdout",
     "output_type": "stream",
     "text": [
      "{'magdalen_2': 0.01782699618284782, 'all_souls_4': 0.030300634013792606, 'bodleian_5': 0.008991605884645952, 'pitt_rivers_4': 0.17557903478489972, 'keble_5': 0.144362982112855, 'balliol_3': 0.09459441733118651, 'christ_church_2': 0.02551228763531225, 'balliol_2': 0.08708884279500576, 'christ_church_5': 0.02052706543303268, 'balliol_4': 0.013709858363445201, 'keble_2': 0.03724398042868895, 'balliol_5': 0.08729811439320466, 'christ_church_1': 0.026871149940321137, 'hertford_2': 0.04868881226585283, 'christ_church_4': 0.026987363964268922, 'ashmolean_1': 0.010911560609235819, 'bodleian_1': 0.057478838390345, 'radcliffe_camera_1': 0.14032863056389977, 'bodleian_2': 0.055676514271867546, 'balliol_1': 0.030341751398966513, 'hertford_3': 0.04738384281039548, 'all_souls_2': 0.09629668293839692, 'bodleian_3': 0.029152697926409284, 'ashmolean_4': 0.008278332455361937, 'pitt_rivers_5': 0.006292358746666658, 'hertford_1': 0.021886344094280523, 'christ_church_3': 0.03214028103389015, 'keble_3': 0.1449769351806507, 'radcliffe_camera_3': 0.08662517634428399, 'magdalen_4': 0.04824545549401405, 'radcliffe_camera_2': 0.166166332836912, 'magdalen_5': 0.033137119942644705, 'pitt_rivers_1': 0.16882841158559136, 'cornmarket_2': 0.002026970941383579, 'all_souls_5': 0.04186880558175572, 'keble_1': 0.14536578463281769, 'cornmarket_5': 0.002518850995786989, 'pitt_rivers_2': 0.16967596422670836, 'radcliffe_camera_4': 0.18337475466632827, 'ashmolean_2': 0.01158518049743628, 'radcliffe_camera_5': 0.0819035492867712, 'hertford_5': 0.03226622224997677, 'bodleian_4': 0.007010989909280542, 'ashmolean_3': 0.021884398996255914, 'cornmarket_1': 0.002680599786807134, 'cornmarket_3': 0.0038014384088766377, 'magdalen_1': 0.045188038405497795, 'all_souls_1': 0.03581685663854505, 'all_souls_3': 0.048550448636492896, 'ashmolean_5': 0.005906397947284556, 'keble_4': 0.003909363743277613, 'hertford_4': 0.05466172526976032, 'magdalen_3': 0.03143780693203244, 'pitt_rivers_3': 0.16970154339132332, 'cornmarket_4': 0.11422522198125588}\n",
      "0.059001660459615024\n"
     ]
    }
   ],
   "source": [
    "from compute import load_list,compute_ap\n",
    "def load_result(fname):\n",
    "    result={}\n",
    "    for e in open(fname,'r').readlines():\n",
    "        line=e.strip().split(' ')\n",
    "        result[line[0]]=line[1:]\n",
    "    return result\n",
    "result=load_result('result.txt')\n",
    "gt_path='/share/dong/Data/OxfordBuilding/gtfiles/'\n",
    "ap={}\n",
    "for query,ranked_list in result.items():\n",
    "    querypath=gt_path+query\n",
    "    pos_set = list(set(load_list(\"%s_good.txt\" % querypath) + load_list(\"%s_ok.txt\" % querypath)))\n",
    "    junk_set = load_list(\"%s_junk.txt\" % querypath)\n",
    "    ap[query]=compute_ap(pos_set, junk_set, ranked_list)\n",
    "aplist = ap.values()\n",
    "print(ap)\n",
    "print(sum(aplist)/len(aplist))"
   ]
  }
 ],
 "metadata": {
  "kernelspec": {
   "display_name": "Python 3",
   "language": "python",
   "name": "python3"
  },
  "language_info": {
   "codemirror_mode": {
    "name": "ipython",
    "version": 3
   },
   "file_extension": ".py",
   "mimetype": "text/x-python",
   "name": "python",
   "nbconvert_exporter": "python",
   "pygments_lexer": "ipython3",
   "version": "3.5.1+"
  }
 },
 "nbformat": 4,
 "nbformat_minor": 2
}
